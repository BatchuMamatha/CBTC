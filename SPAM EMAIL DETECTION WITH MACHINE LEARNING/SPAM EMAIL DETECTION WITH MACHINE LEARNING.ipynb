{
 "cells": [
  {
   "cell_type": "code",
   "execution_count": 1,
   "id": "a1c20cbe-c593-4fac-8011-570817458852",
   "metadata": {},
   "outputs": [],
   "source": [
    "# Importing necessary libraries\n",
    "import numpy as np\n",
    "import pandas as pd\n",
    "import nltk\n",
    "from nltk.corpus import stopwords\n",
    "import string\n",
    "from sklearn.feature_extraction.text import CountVectorizer\n",
    "from sklearn.model_selection import train_test_split\n",
    "from sklearn.naive_bayes import MultinomialNB\n",
    "from sklearn.metrics import classification_report, confusion_matrix, accuracy_score"
   ]
  },
  {
   "cell_type": "code",
   "execution_count": 2,
   "id": "6d19204c-518e-4892-a359-d9dd0eae59b8",
   "metadata": {},
   "outputs": [],
   "source": [
    "# Load the dataset\n",
    "df = pd.read_excel(r\"C:\\Users\\Poojitha\\Downloads\\Spam Email Detection.xlsx\")"
   ]
  },
  {
   "cell_type": "code",
   "execution_count": 3,
   "id": "255670ab-9449-4b71-b2f4-7dbd247aadbe",
   "metadata": {},
   "outputs": [],
   "source": [
    "# Rename columns for clarity\n",
    "df = df.rename(columns={'v1': 'label', 'v2': 'text'})"
   ]
  },
  {
   "cell_type": "code",
   "execution_count": 4,
   "id": "90e26011-9892-42bf-813c-6d11ca552dda",
   "metadata": {},
   "outputs": [
    {
     "name": "stdout",
     "output_type": "stream",
     "text": [
      "  label                                               text Unnamed: 2  \\\n",
      "0   ham  Go until jurong point, crazy.. Available only ...        NaN   \n",
      "1   ham                      Ok lar... Joking wif u oni...        NaN   \n",
      "2  spam  Free entry in 2 a wkly comp to win FA Cup fina...        NaN   \n",
      "3   ham  U dun say so early hor... U c already then say...        NaN   \n",
      "4   ham  Nah I don't think he goes to usf, he lives aro...        NaN   \n",
      "\n",
      "  Unnamed: 3 Unnamed: 4  \n",
      "0        NaN        NaN  \n",
      "1        NaN        NaN  \n",
      "2        NaN        NaN  \n",
      "3        NaN        NaN  \n",
      "4        NaN        NaN  \n"
     ]
    }
   ],
   "source": [
    "# Display the first few rows of the dataframe\n",
    "print(df.head())"
   ]
  },
  {
   "cell_type": "code",
   "execution_count": 5,
   "id": "4c14bede-83c7-48bb-b082-ff23f2aa71b7",
   "metadata": {},
   "outputs": [
    {
     "name": "stdout",
     "output_type": "stream",
     "text": [
      "(5572, 5)\n"
     ]
    }
   ],
   "source": [
    "# Display the shape of the dataframe\n",
    "print(df.shape)"
   ]
  },
  {
   "cell_type": "code",
   "execution_count": 6,
   "id": "8b5b9c62-acee-4ba8-8f0a-e01f058fbd96",
   "metadata": {},
   "outputs": [
    {
     "name": "stdout",
     "output_type": "stream",
     "text": [
      "Index(['label', 'text', 'Unnamed: 2', 'Unnamed: 3', 'Unnamed: 4'], dtype='object')\n"
     ]
    }
   ],
   "source": [
    "# Display the columns of the dataframe\n",
    "print(df.columns)"
   ]
  },
  {
   "cell_type": "code",
   "execution_count": 7,
   "id": "ea68c8e9-8dc2-4b27-bc47-43f13b71ba85",
   "metadata": {},
   "outputs": [
    {
     "name": "stdout",
     "output_type": "stream",
     "text": [
      "(5163, 5)\n"
     ]
    }
   ],
   "source": [
    "# Remove duplicates\n",
    "df.drop_duplicates(inplace=True)\n",
    "print(df.shape)"
   ]
  },
  {
   "cell_type": "code",
   "execution_count": 8,
   "id": "c138c370-d18a-4bc6-ba4d-48e99646c137",
   "metadata": {},
   "outputs": [
    {
     "name": "stdout",
     "output_type": "stream",
     "text": [
      "label            0\n",
      "text             0\n",
      "Unnamed: 2    5120\n",
      "Unnamed: 3    5153\n",
      "Unnamed: 4    5158\n",
      "dtype: int64\n"
     ]
    }
   ],
   "source": [
    "# Check for missing values\n",
    "print(df.isnull().sum())"
   ]
  },
  {
   "cell_type": "code",
   "execution_count": 9,
   "id": "2ae88e64-5aa4-490c-b9cc-2af56e7fc80a",
   "metadata": {},
   "outputs": [],
   "source": [
    "# Drop unnecessary columns (if any)\n",
    "df = df[['label', 'text']]"
   ]
  },
  {
   "cell_type": "code",
   "execution_count": 10,
   "id": "e3bb87b1-6ac1-4ab6-89c3-1107d24ccd21",
   "metadata": {},
   "outputs": [
    {
     "name": "stderr",
     "output_type": "stream",
     "text": [
      "[nltk_data] Downloading package stopwords to\n",
      "[nltk_data]     C:\\Users\\Poojitha\\AppData\\Roaming\\nltk_data...\n",
      "[nltk_data]   Package stopwords is already up-to-date!\n"
     ]
    },
    {
     "data": {
      "text/plain": [
       "True"
      ]
     },
     "execution_count": 10,
     "metadata": {},
     "output_type": "execute_result"
    }
   ],
   "source": [
    "# Download the stopwords package\n",
    "nltk.download(\"stopwords\")"
   ]
  },
  {
   "cell_type": "code",
   "execution_count": 11,
   "id": "f5d89faf-c34b-48f0-9fbf-21b6eeeee66b",
   "metadata": {},
   "outputs": [],
   "source": [
    "# Define the text processing function\n",
    "def process(text):\n",
    "    if isinstance(text, str):\n",
    "        # Remove punctuation\n",
    "        nopunc = [char for char in text if char not in string.punctuation]\n",
    "        nopunc = ''.join(nopunc)\n",
    "\n",
    "        # Remove stopwords\n",
    "        clean = [word for word in nopunc.split() if word.lower() not in stopwords.words('english')]\n",
    "        return clean\n",
    "    else:\n",
    "        return []"
   ]
  },
  {
   "cell_type": "code",
   "execution_count": 12,
   "id": "61065a3c-531c-485a-b00a-183f58ce2282",
   "metadata": {},
   "outputs": [
    {
     "name": "stdout",
     "output_type": "stream",
     "text": [
      "0    [Go, jurong, point, crazy, Available, bugis, n...\n",
      "1                       [Ok, lar, Joking, wif, u, oni]\n",
      "2    [Free, entry, 2, wkly, comp, win, FA, Cup, fin...\n",
      "3        [U, dun, say, early, hor, U, c, already, say]\n",
      "4    [Nah, dont, think, goes, usf, lives, around, t...\n",
      "Name: text, dtype: object\n"
     ]
    }
   ],
   "source": [
    "# Apply the text processing function to the text column\n",
    "print(df['text'].head().apply(process))"
   ]
  },
  {
   "cell_type": "code",
   "execution_count": 13,
   "id": "d3168c96-cc01-4e52-b99e-bec71b8f5988",
   "metadata": {},
   "outputs": [
    {
     "name": "stdout",
     "output_type": "stream",
     "text": [
      "(5163, 11300)\n"
     ]
    }
   ],
   "source": [
    "# Convert text data into a matrix of token counts\n",
    "vectorizer = CountVectorizer(analyzer=process)\n",
    "message = vectorizer.fit_transform(df['text'])\n",
    "\n",
    "# Split the data into training and testing sets\n",
    "xtrain, xtest, ytrain, ytest = train_test_split(message, df['label'], test_size=0.20, random_state=0)\n",
    "print(message.shape)"
   ]
  },
  {
   "cell_type": "code",
   "execution_count": 14,
   "id": "e851c5d1-9d1a-4773-b01a-e043d28f5247",
   "metadata": {},
   "outputs": [
    {
     "name": "stdout",
     "output_type": "stream",
     "text": [
      "              precision    recall  f1-score   support\n",
      "\n",
      "         ham       1.00      1.00      1.00      3616\n",
      "        spam       0.98      0.98      0.98       514\n",
      "\n",
      "    accuracy                           1.00      4130\n",
      "   macro avg       0.99      0.99      0.99      4130\n",
      "weighted avg       1.00      1.00      1.00      4130\n",
      "\n",
      "\n",
      "Confusion Matrix (Training): \n",
      " [[3607    9]\n",
      " [  10  504]]\n",
      "Accuracy (Training): \n",
      " 0.9953995157384988\n"
     ]
    }
   ],
   "source": [
    "# Create and train the Naive Bayes classifier\n",
    "classifier = MultinomialNB().fit(xtrain, ytrain)\n",
    "\n",
    "# Evaluate the model on the training set\n",
    "pred_train = classifier.predict(xtrain)\n",
    "print(classification_report(ytrain, pred_train))\n",
    "print()\n",
    "print(\"Confusion Matrix (Training): \\n\", confusion_matrix(ytrain, pred_train))\n",
    "print(\"Accuracy (Training): \\n\", accuracy_score(ytrain, pred_train))"
   ]
  },
  {
   "cell_type": "code",
   "execution_count": null,
   "id": "1b8c01a7-4845-43ab-8a4d-139896305b2c",
   "metadata": {},
   "outputs": [],
   "source": []
  }
 ],
 "metadata": {
  "kernelspec": {
   "display_name": "Python 3 (ipykernel)",
   "language": "python",
   "name": "python3"
  },
  "language_info": {
   "codemirror_mode": {
    "name": "ipython",
    "version": 3
   },
   "file_extension": ".py",
   "mimetype": "text/x-python",
   "name": "python",
   "nbconvert_exporter": "python",
   "pygments_lexer": "ipython3",
   "version": "3.12.1"
  }
 },
 "nbformat": 4,
 "nbformat_minor": 5
}
